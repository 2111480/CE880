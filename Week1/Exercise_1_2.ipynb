{
 "cells": [
  {
   "cell_type": "markdown",
   "id": "5ff1c9a6",
   "metadata": {},
   "source": [
    "# CE880: An Approachable Introduction to Data Science\n",
    "### Prepared by: Haider Raza (h.raza@essex.ac.uk)\n",
    "### Approximate time: 180 minutes\n",
    "\n",
    "***\n",
    "## Learning Outcome Day 2\n",
    "\n",
    "* Python Syntax \n",
    "* Variables and tips on variable names \n",
    "* Data Types \n",
    "* Data Structures\n",
    "* Strings \n",
    "* Logic/Booleans\n",
    "* Operators\n",
    "* If/Else, While, For, Functions \n",
    "* OOP: Classes and inheritance\n",
    "\n",
    "***"
   ]
  },
  {
   "cell_type": "markdown",
   "id": "409c13c1",
   "metadata": {},
   "source": [
    "## Python Syntax\n",
    "\n",
    "The Python language has many similarities to `Perl`, `C`, and `Java`. However, there are some definite differences between the languages.\n",
    "\n",
    "Python statement ends with the token NEWLINE character (carriage return). It means each line in a Python script is a statement. The following Python script contains three statements in three separate lines.\n",
    "\n",
    "```python\n",
    "print('id: ', 1)\n",
    "print('First Name: ', 'Steve')\n",
    "print('Last Name: ', 'Jobs')\n",
    "```\n",
    "Use backslash character / to join a statement span over multiple lines, as shown below."
   ]
  },
  {
   "cell_type": "code",
   "execution_count": 1,
   "id": "63805eab",
   "metadata": {},
   "outputs": [
    {
     "name": "stdout",
     "output_type": "stream",
     "text": [
      "Hello World!\n"
     ]
    }
   ],
   "source": [
    "if 100 > 99 and \\\n",
    "    200 <= 300 and \\\n",
    "    True != False:\n",
    "        print('Hello World!')"
   ]
  },
  {
   "cell_type": "markdown",
   "id": "2f0d8da3",
   "metadata": {},
   "source": [
    "### Variables\n",
    "\n",
    "A name that is used to denote something or a value is called a variable. In python, variables can be declared and values can be assigned to it as follows:"
   ]
  },
  {
   "cell_type": "code",
   "execution_count": 2,
   "id": "5de9b42c",
   "metadata": {},
   "outputs": [
    {
     "name": "stdout",
     "output_type": "stream",
     "text": [
      "7 Hello\n"
     ]
    }
   ],
   "source": [
    "x = 2\n",
    "y = 5\n",
    "xy = 'Hello'\n",
    "\n",
    "print(x+y, xy)"
   ]
  },
  {
   "cell_type": "code",
   "execution_count": 3,
   "id": "3cfb1a08",
   "metadata": {},
   "outputs": [
    {
     "name": "stdout",
     "output_type": "stream",
     "text": [
      "1 1\n"
     ]
    }
   ],
   "source": [
    "# Multiple variables can be assigned with the same value\n",
    "\n",
    "x = y = 1\n",
    "print(x,y)"
   ]
  },
  {
   "cell_type": "markdown",
   "id": "35dc3ba4",
   "metadata": {},
   "source": [
    "### Operators\n",
    "\n",
    "#### Arithmetic Operators\n",
    "\n",
    "| Symbol | Task Performed |\n",
    "|----|---|\n",
    "| +  | Addition |\n",
    "| -  | Subtraction |\n",
    "| /  | division |\n",
    "| %  | mod |\n",
    "| *  | multiplication |\n",
    "| //  | floor division |\n",
    "| **  | to the power of |"
   ]
  },
  {
   "cell_type": "code",
   "execution_count": 6,
   "id": "9c67bf09",
   "metadata": {},
   "outputs": [
    {
     "name": "stdout",
     "output_type": "stream",
     "text": [
      "4\n",
      "6\n",
      "24\n",
      "12.0\n",
      "5\n",
      "1.0\n"
     ]
    }
   ],
   "source": [
    "# Addition\n",
    "a = 1 + 3\n",
    "print(a)\n",
    "\n",
    "# Substraction\n",
    "b = 10 - 4\n",
    "print(b)\n",
    "\n",
    "# Multiplication\n",
    "c = a * b\n",
    "print(c)\n",
    "\n",
    "# Division\n",
    "d = c/2\n",
    "print(d)\n",
    "\n",
    "# Modulo\n",
    "\n",
    "e = 15%10\n",
    "print(e)\n",
    "\n",
    "#Floor division is nothing but converting the result so obtained to the nearest integer.\n",
    "f = 2.8//2.0\n",
    "print(f)"
   ]
  },
  {
   "cell_type": "markdown",
   "id": "631dcfd9",
   "metadata": {},
   "source": [
    "## Relational Operators\n",
    "| Symbol | Task Performed |\n",
    "|----|---|\n",
    "| == | True, if it is equal |\n",
    "| !=  | True, if not equal to |\n",
    "| < | less than |\n",
    "| > | greater than |\n",
    "| <=  | less than or equal to |\n",
    "| >=  | greater than or equal to |"
   ]
  },
  {
   "cell_type": "code",
   "execution_count": 7,
   "id": "76f3a152",
   "metadata": {},
   "outputs": [],
   "source": [
    "# Try few operators in this cell\n",
    "\n"
   ]
  },
  {
   "cell_type": "markdown",
   "id": "4cb6943e",
   "metadata": {},
   "source": [
    "## Print\n",
    "\n",
    "In Python, single, double and triple quotes are used to denote a string. Most use single quotes when declaring a single character. Double quotes when declaring a line and triple quotes when declaring a paragraph/multiple lines."
   ]
  },
  {
   "cell_type": "code",
   "execution_count": 10,
   "id": "b0fbc52b",
   "metadata": {},
   "outputs": [
    {
     "name": "stdout",
     "output_type": "stream",
     "text": [
      "H\n",
      "Hello World\n",
      "I am from Essex.\n",
      "I love Python.\n"
     ]
    }
   ],
   "source": [
    "print('H')\n",
    "print(\"Hello World\")\n",
    "print(\"\"\"I am from Essex.\n",
    "I love Python.\"\"\")"
   ]
  },
  {
   "cell_type": "code",
   "execution_count": 11,
   "id": "9aa40c0d",
   "metadata": {},
   "outputs": [
    {
     "name": "stdout",
     "output_type": "stream",
     "text": [
      "Hello World\n",
      "Hello World !\n"
     ]
    }
   ],
   "source": [
    "string1 = \"World\"\n",
    "print(\"Hello\", string1)\n",
    "\n",
    "string2 = '!'\n",
    "print(\"Hello\", string1, string2)"
   ]
  },
  {
   "cell_type": "code",
   "execution_count": 12,
   "id": "7ad94768",
   "metadata": {},
   "outputs": [
    {
     "name": "stdout",
     "output_type": "stream",
     "text": [
      "Hello World\n"
     ]
    }
   ],
   "source": [
    "print(\"Hello %s\" % string1)"
   ]
  },
  {
   "cell_type": "code",
   "execution_count": 13,
   "id": "b6f05bed",
   "metadata": {},
   "outputs": [
    {
     "name": "stdout",
     "output_type": "stream",
     "text": [
      "Actual Number = 18\n",
      "Float of the number = 18.000000\n"
     ]
    }
   ],
   "source": [
    "print(\"Actual Number = %d\" %18)\n",
    "print(\"Float of the number = %f\" %18)"
   ]
  },
  {
   "cell_type": "code",
   "execution_count": 14,
   "id": "d4c829e6",
   "metadata": {},
   "outputs": [
    {
     "name": "stdout",
     "output_type": "stream",
     "text": [
      "Hello World !\n"
     ]
    }
   ],
   "source": [
    "print(\"Hello %s %s\" %(string1,string2))"
   ]
  },
  {
   "cell_type": "markdown",
   "id": "50d5cf96",
   "metadata": {},
   "source": [
    "## Python: Data Types\n",
    "\n",
    "In programming, data type is an important concept. `Variables` can store data of different types, and different types can do different things. Python has the following data types built-in by default, in these categories:\n",
    "\n",
    "\n",
    "|   Type          |  Syntax   | \n",
    "|-----------------|---------- |\n",
    "| Text Type:      | \t`str`     | \n",
    "| Numeric Types:  |  `int`, `float`, `complex`         |\n",
    "| Sequence Types: |  `list`, `tuple`, `range`         |\n",
    "| Mapping Type:   |  `dict`         |\n",
    "| Set Types:      |  `set`, `frozenset`         |\n",
    "| Boolean Type:   |  `bool`         |\n",
    "|  Binary Types:  |  `bytes`, `bytearray`, `memoryview`      |\n",
    "\n",
    "\n",
    "\n",
    "You can get the data type of any object by using the type() function:\n"
   ]
  },
  {
   "cell_type": "code",
   "execution_count": 15,
   "id": "a17eb933",
   "metadata": {},
   "outputs": [
    {
     "data": {
      "text/plain": [
       "int"
      ]
     },
     "execution_count": 15,
     "metadata": {},
     "output_type": "execute_result"
    }
   ],
   "source": [
    "x = 20\n",
    "type(x)"
   ]
  },
  {
   "cell_type": "code",
   "execution_count": 16,
   "id": "f3dfc281",
   "metadata": {},
   "outputs": [
    {
     "name": "stdout",
     "output_type": "stream",
     "text": [
      "<class 'str'>\n"
     ]
    }
   ],
   "source": [
    "# str type\n",
    "x = \"Hello Essex\" \n",
    "print(type(x))"
   ]
  },
  {
   "cell_type": "code",
   "execution_count": 17,
   "id": "7544fc03",
   "metadata": {},
   "outputs": [
    {
     "name": "stdout",
     "output_type": "stream",
     "text": [
      "<class 'int'>\n"
     ]
    }
   ],
   "source": [
    "# int type\n",
    "x = 100\t\n",
    "print(type(x))"
   ]
  },
  {
   "cell_type": "code",
   "execution_count": 18,
   "id": "2eab98ca",
   "metadata": {},
   "outputs": [
    {
     "name": "stdout",
     "output_type": "stream",
     "text": [
      "<class 'float'>\n"
     ]
    }
   ],
   "source": [
    "# float type\n",
    "x = 100.5\t\n",
    "print(type(x))"
   ]
  },
  {
   "cell_type": "code",
   "execution_count": 19,
   "id": "0c5b2f2c",
   "metadata": {},
   "outputs": [
    {
     "name": "stdout",
     "output_type": "stream",
     "text": [
      "<class 'complex'>\n"
     ]
    }
   ],
   "source": [
    "# complex type\n",
    "x = 1j\n",
    "print(type(x))\n"
   ]
  },
  {
   "cell_type": "code",
   "execution_count": 20,
   "id": "8ad94ec7",
   "metadata": {},
   "outputs": [
    {
     "name": "stdout",
     "output_type": "stream",
     "text": [
      "<class 'list'>\n"
     ]
    }
   ],
   "source": [
    "# list type\n",
    "x = [\"I\", \"Love\", \"Essex\"]\t\n",
    "print(type(x))\n"
   ]
  },
  {
   "cell_type": "code",
   "execution_count": 21,
   "id": "72fbf8af",
   "metadata": {},
   "outputs": [
    {
     "name": "stdout",
     "output_type": "stream",
     "text": [
      "<class 'tuple'>\n"
     ]
    }
   ],
   "source": [
    "# tuple \n",
    "x = (\"I\", \"Love\", \"Data Science\")\t\n",
    "print(type(x))\n"
   ]
  },
  {
   "cell_type": "code",
   "execution_count": 22,
   "id": "ff37bea3",
   "metadata": {},
   "outputs": [
    {
     "name": "stdout",
     "output_type": "stream",
     "text": [
      "<class 'range'>\n"
     ]
    }
   ],
   "source": [
    "# range type\n",
    "x = range(10)\t\n",
    "print(type(x))\n"
   ]
  },
  {
   "cell_type": "code",
   "execution_count": 23,
   "id": "418f39a0",
   "metadata": {},
   "outputs": [
    {
     "name": "stdout",
     "output_type": "stream",
     "text": [
      "<class 'dict'>\n"
     ]
    }
   ],
   "source": [
    "# dictonary type\n",
    "x = {\"name\" : \"Haider\", \"age\" : 36}\t\t\n",
    "print(type(x))\n"
   ]
  },
  {
   "cell_type": "code",
   "execution_count": 24,
   "id": "68f4eb7f",
   "metadata": {},
   "outputs": [
    {
     "name": "stdout",
     "output_type": "stream",
     "text": [
      "<class 'set'>\n"
     ]
    }
   ],
   "source": [
    "# set type\n",
    "x = {\"BWM\", \"Audi\", \"Honda\"}\t\n",
    "print(type(x))\n"
   ]
  },
  {
   "cell_type": "code",
   "execution_count": 25,
   "id": "19b7cf60",
   "metadata": {},
   "outputs": [
    {
     "name": "stdout",
     "output_type": "stream",
     "text": [
      "<class 'frozenset'>\n"
     ]
    }
   ],
   "source": [
    "# frozen set type\n",
    "x = frozenset({\"England\", \"Wale\", \"Scotland\", \"Northern Ireland\"})\n",
    "print(type(x))\n"
   ]
  },
  {
   "cell_type": "code",
   "execution_count": 27,
   "id": "cfc1edf8",
   "metadata": {},
   "outputs": [
    {
     "name": "stdout",
     "output_type": "stream",
     "text": [
      "<class 'bool'>\n"
     ]
    }
   ],
   "source": [
    "# bool type\n",
    "x = True\n",
    "print(type(x))"
   ]
  },
  {
   "cell_type": "code",
   "execution_count": 28,
   "id": "86d6aefc",
   "metadata": {},
   "outputs": [
    {
     "name": "stdout",
     "output_type": "stream",
     "text": [
      "<class 'bytes'>\n"
     ]
    }
   ],
   "source": [
    "# bytes type\n",
    "x = b\"Hello\"\n",
    "print(type(x))\n"
   ]
  },
  {
   "cell_type": "code",
   "execution_count": 29,
   "id": "e0fd79e6",
   "metadata": {},
   "outputs": [
    {
     "name": "stdout",
     "output_type": "stream",
     "text": [
      "<class 'bytearray'>\n"
     ]
    }
   ],
   "source": [
    "# bytearray\n",
    "x = bytearray(3)\n",
    "print(type(x))\n"
   ]
  },
  {
   "cell_type": "code",
   "execution_count": 30,
   "id": "60ea99b8",
   "metadata": {},
   "outputs": [
    {
     "name": "stdout",
     "output_type": "stream",
     "text": [
      "<class 'memoryview'>\n"
     ]
    }
   ],
   "source": [
    "# memoryview \n",
    "x = memoryview(bytes(5))\n",
    "print(type(x))"
   ]
  },
  {
   "cell_type": "markdown",
   "id": "019b08fd",
   "metadata": {},
   "source": [
    "### Do you know, we can convert or set data types:\n",
    "\n",
    "If you want to specify the data type, you can use the following constructor functions:"
   ]
  },
  {
   "cell_type": "code",
   "execution_count": 31,
   "id": "fe8e2e4f",
   "metadata": {},
   "outputs": [],
   "source": [
    "# Setting x to string\n",
    "x = str(\"Hello Essex\")\n",
    "\n",
    "# setting x to integer\n",
    "x = int(20)\n",
    "\n",
    "# setting x to float\n",
    "x = float(20.5)\t\t\n",
    "\n",
    "# setting x to list\n",
    "x = list((\"apple\", \"banana\", \"cherry\"))"
   ]
  },
  {
   "cell_type": "markdown",
   "id": "078f7039",
   "metadata": {},
   "source": [
    "## Python Conditions\n",
    "\n",
    "Python supports the usual logical conditions from mathematics:\n",
    "\n",
    "|   Type          |  Syntax   | \n",
    "|-----------------|---------- |\n",
    "| Equals :        | `a == b`  | \n",
    "| Not Equals :    | `a != b`  | \n",
    "| Less than :     | \t`a < b` | \n",
    "| Less than or equal to:| \t`a <= b`| \n",
    "| Greater than :  | \t`a > b` | \n",
    "|Greater than or equal to:|  `a >= b`|\n",
    "\n",
    "\n",
    "These conditions can be used in several ways, most commonly in `if` statements and loops. An `if` statement is written by using the `if` keyword.\n",
    "\n",
    "```python\n",
    "x = 5\n",
    "y = 10\n",
    "if y > x:\n",
    "  print(\"b is greater than a\")\n",
    "```\n",
    "\n",
    "## Important point to note: `Indentation`\n",
    "Python relies on indentation (whitespace at the beginning of a line) to define scope in the code. Other programming languages often use curly-brackets for this purpose.\n",
    "\n",
    "```python\n",
    "a = 33\n",
    "b = 200\n",
    "if b > a:\n",
    "print(\"b is greater than a\") # you will get an error\n",
    "```\n",
    "Above code will give an error.\n",
    "\n",
    "### Elif\n",
    "\n",
    "The `elif` keyword is pythons way of saying \"**if the previous conditions were not true, then try this condition**\".\n"
   ]
  },
  {
   "cell_type": "code",
   "execution_count": 32,
   "id": "3c7440e0",
   "metadata": {},
   "outputs": [
    {
     "name": "stdout",
     "output_type": "stream",
     "text": [
      "a and b are equal\n"
     ]
    }
   ],
   "source": [
    "a = 10\n",
    "b = 10\n",
    "if b > a:\n",
    "  print(\"b is greater than a\")\n",
    "elif a == b:\n",
    "  print(\"a and b are equal\")"
   ]
  },
  {
   "cell_type": "markdown",
   "id": "dfedbeaa",
   "metadata": {},
   "source": [
    "### Else\n",
    "The `else` keyword catches anything which isn't caught by the preceding conditions."
   ]
  },
  {
   "cell_type": "code",
   "execution_count": 33,
   "id": "cf0967df",
   "metadata": {},
   "outputs": [
    {
     "name": "stdout",
     "output_type": "stream",
     "text": [
      "a is greater than b\n"
     ]
    }
   ],
   "source": [
    "a = 30\n",
    "b = 10\n",
    "if b > a:\n",
    "  print(\"b is greater than a\")\n",
    "elif a == b:\n",
    "  print(\"a and b are equal\")\n",
    "else:\n",
    "  print(\"a is greater than b\")"
   ]
  },
  {
   "cell_type": "markdown",
   "id": "f879cfa8",
   "metadata": {},
   "source": [
    "### Using And in IF\n",
    "\n",
    "The `and` keyword is a logical operator, and is used to combine conditional statements:"
   ]
  },
  {
   "cell_type": "code",
   "execution_count": 34,
   "id": "631b83ad",
   "metadata": {},
   "outputs": [
    {
     "name": "stdout",
     "output_type": "stream",
     "text": [
      "Both conditions are True\n"
     ]
    }
   ],
   "source": [
    "a = 30\n",
    "b = 10\n",
    "c = 70\n",
    "if a > b and c > a:\n",
    "  print(\"Both conditions are True\")"
   ]
  },
  {
   "cell_type": "markdown",
   "id": "9b459ac3",
   "metadata": {},
   "source": [
    "### Nested If\n",
    "\n",
    "You can have `if` statements inside `if` statements, this is called \"nested if\" statements."
   ]
  },
  {
   "cell_type": "code",
   "execution_count": 36,
   "id": "379483f2",
   "metadata": {},
   "outputs": [
    {
     "name": "stdout",
     "output_type": "stream",
     "text": [
      "Above ten,\n",
      "and also above 20!\n"
     ]
    }
   ],
   "source": [
    "x = 55\n",
    "\n",
    "if x > 10:\n",
    "  print(\"Above ten,\")\n",
    "  if x > 20:\n",
    "    print(\"and also above 20!\")\n",
    "  else:\n",
    "    print(\"but not above 20.\")"
   ]
  },
  {
   "cell_type": "markdown",
   "id": "d4b2236e",
   "metadata": {},
   "source": [
    "## Python Loops\n",
    "\n",
    "Python has two primitive loop commands:\n",
    "\n",
    "* `while` loops\n",
    "* `for` \n",
    "\n",
    "\n",
    "### While Loop\n",
    "With the `while` loop we can execute a set of statements as long as a condition is true."
   ]
  },
  {
   "cell_type": "code",
   "execution_count": 37,
   "id": "a7719580",
   "metadata": {},
   "outputs": [
    {
     "name": "stdout",
     "output_type": "stream",
     "text": [
      "1\n",
      "2\n",
      "3\n",
      "4\n",
      "5\n"
     ]
    }
   ],
   "source": [
    "i = 1\n",
    "while i < 6:\n",
    "  print(i)\n",
    "  i += 1"
   ]
  },
  {
   "cell_type": "markdown",
   "id": "bbcf0e54",
   "metadata": {},
   "source": [
    "### Break Statement\n",
    "With the break statement we can stop the loop even if the `while` condition is true:"
   ]
  },
  {
   "cell_type": "code",
   "execution_count": 38,
   "id": "8d28fa1f",
   "metadata": {},
   "outputs": [
    {
     "name": "stdout",
     "output_type": "stream",
     "text": [
      "1\n",
      "2\n",
      "3\n"
     ]
    }
   ],
   "source": [
    "i = 1\n",
    "while i < 6:\n",
    "  print(i)\n",
    "  if i == 3:\n",
    "    break\n",
    "  i += 1"
   ]
  },
  {
   "cell_type": "markdown",
   "id": "a0924b93",
   "metadata": {},
   "source": [
    "### For Loop\n",
    "\n",
    "A `for` loop is used for iterating over a sequence (that is either a list, a tuple, a dictionary, a set, or a string).\n",
    "\n",
    "This is less like the for keyword in other programming languages, and works more like an iterator method as found in other object-orientated programming languages.\n",
    "\n",
    "With the `for` loop we can execute a set of statements, once for each item in a list, tuple, set etc."
   ]
  },
  {
   "cell_type": "code",
   "execution_count": 39,
   "id": "2309a7b7",
   "metadata": {},
   "outputs": [
    {
     "name": "stdout",
     "output_type": "stream",
     "text": [
      "bmw\n",
      "audi\n",
      "honda\n"
     ]
    }
   ],
   "source": [
    "cars = [\"bmw\", \"audi\", \"honda\"]\n",
    "for x in cars:\n",
    "  print(x)"
   ]
  },
  {
   "cell_type": "markdown",
   "id": "6a896169",
   "metadata": {},
   "source": [
    "### Looping Through a String\n",
    "\n",
    "Even strings are iterable objects, they contain a sequence of characters:"
   ]
  },
  {
   "cell_type": "code",
   "execution_count": 40,
   "id": "0f72ee43",
   "metadata": {},
   "outputs": [
    {
     "name": "stdout",
     "output_type": "stream",
     "text": [
      "b\n",
      "m\n",
      "w\n"
     ]
    }
   ],
   "source": [
    "for x in \"bmw\":\n",
    "  print(x)"
   ]
  },
  {
   "cell_type": "markdown",
   "id": "cb8c65bf",
   "metadata": {},
   "source": [
    "### Using break in for loop\n",
    "\n",
    "With the `break` statement we can stop the loop before it has looped through all the items:"
   ]
  },
  {
   "cell_type": "code",
   "execution_count": 41,
   "id": "1adeb8ea",
   "metadata": {},
   "outputs": [
    {
     "name": "stdout",
     "output_type": "stream",
     "text": [
      "bmw\n",
      "audi\n"
     ]
    }
   ],
   "source": [
    "cars = [\"bmw\", \"audi\", \"honda\"]\n",
    "for x in cars:\n",
    "  print(x)\n",
    "  if x == \"audi\":\n",
    "    break"
   ]
  },
  {
   "cell_type": "markdown",
   "id": "56476275",
   "metadata": {},
   "source": [
    "### The range() Function\n",
    "\n",
    "To loop through a set of code a specified number of times, we can use the `range()` function,\n",
    "The `range()` function returns a sequence of numbers, starting from 0 by default, and increments by 1 (by default), and ends at a specified number."
   ]
  },
  {
   "cell_type": "code",
   "execution_count": 42,
   "id": "2f3d83d6",
   "metadata": {},
   "outputs": [
    {
     "name": "stdout",
     "output_type": "stream",
     "text": [
      "0\n",
      "1\n",
      "2\n",
      "3\n",
      "4\n",
      "5\n",
      "6\n",
      "7\n",
      "8\n",
      "9\n"
     ]
    }
   ],
   "source": [
    "for x in range(10):\n",
    "  print(x)"
   ]
  },
  {
   "cell_type": "code",
   "execution_count": 43,
   "id": "471f2383",
   "metadata": {},
   "outputs": [
    {
     "name": "stdout",
     "output_type": "stream",
     "text": [
      "4\n",
      "5\n",
      "6\n",
      "7\n",
      "8\n",
      "9\n"
     ]
    }
   ],
   "source": [
    "for x in range(4, 10):\n",
    "  print(x)"
   ]
  },
  {
   "cell_type": "markdown",
   "id": "62fb8e38",
   "metadata": {},
   "source": [
    "## Functions in Python\n",
    "\n",
    "A function is a block of code which only runs when it is called. You can pass data, known as parameters, into a function. A function can return data as a result.\n",
    "\n",
    "### Creating a Function\n",
    "\n",
    "In Python a function is defined using the `def` keyword:"
   ]
  },
  {
   "cell_type": "code",
   "execution_count": 44,
   "id": "34bc5ecb",
   "metadata": {},
   "outputs": [],
   "source": [
    "def my_function():\n",
    "  print(\"Hello, this is my first function\")"
   ]
  },
  {
   "cell_type": "markdown",
   "id": "38e7320d",
   "metadata": {},
   "source": [
    "Calling a function, we have just created:"
   ]
  },
  {
   "cell_type": "code",
   "execution_count": 45,
   "id": "4dffaec3",
   "metadata": {},
   "outputs": [
    {
     "name": "stdout",
     "output_type": "stream",
     "text": [
      "Hello, this is my first function\n"
     ]
    }
   ],
   "source": [
    "my_function()"
   ]
  },
  {
   "cell_type": "markdown",
   "id": "239ae4f3",
   "metadata": {},
   "source": [
    "### Arguments\n",
    "Information can be passed into functions as arguments. Arguments are specified after the function name, inside the parentheses. You can add as many arguments as you want, just separate them with a comma.\n",
    "\n",
    "The following example has a function with one argument (fname). When the function is called, we pass along a first name, which is used inside the function to print the full name:"
   ]
  },
  {
   "cell_type": "code",
   "execution_count": 46,
   "id": "815ad622",
   "metadata": {},
   "outputs": [
    {
     "name": "stdout",
     "output_type": "stream",
     "text": [
      "BMW 520d\n",
      "BMW 320i\n",
      "BMW 320d\n"
     ]
    }
   ],
   "source": [
    "def my_function(car_model):\n",
    "  print(\"BMW \" + car_model)\n",
    "\n",
    "my_function(\"520d\")\n",
    "my_function(\"320i\")\n",
    "my_function(\"320d\")"
   ]
  },
  {
   "cell_type": "markdown",
   "id": "24c1d9a9",
   "metadata": {},
   "source": [
    "### Parameters or Arguments?\n",
    "\n",
    "The terms \"parameter\" and \"argument\" can be used for the same thing: information that are passed into a function. But, there is a difference and important to note that:\n",
    "\n",
    "* A \"**parameter**\" is the variable listed inside the parentheses in the function definition.\n",
    "\n",
    "* An \"**argument**\" is the value that is sent to the function when it is called."
   ]
  },
  {
   "cell_type": "markdown",
   "id": "c9e819fb",
   "metadata": {},
   "source": [
    "### Number of Arguments\n",
    "By default, a function must be called with the correct number of arguments. Meaning that if your function expects 2 arguments, you have to call the function with 2 arguments, not more, and not less."
   ]
  },
  {
   "cell_type": "code",
   "execution_count": 47,
   "id": "0d6b2b15",
   "metadata": {},
   "outputs": [
    {
     "name": "stdout",
     "output_type": "stream",
     "text": [
      "Tesla Model X\n"
     ]
    }
   ],
   "source": [
    "def my_function(car_name, car_model):\n",
    "  print(car_name + \" \" + car_model)\n",
    "\n",
    "my_function(\"Tesla\", \"Model X\")"
   ]
  },
  {
   "cell_type": "code",
   "execution_count": 48,
   "id": "8a5b6c21",
   "metadata": {},
   "outputs": [
    {
     "ename": "TypeError",
     "evalue": "my_function() missing 1 required positional argument: 'car_model'",
     "output_type": "error",
     "traceback": [
      "\u001b[0;31m---------------------------------------------------------------------------\u001b[0m",
      "\u001b[0;31mTypeError\u001b[0m                                 Traceback (most recent call last)",
      "\u001b[0;32m<ipython-input-48-e8496ffb8cdf>\u001b[0m in \u001b[0;36m<module>\u001b[0;34m\u001b[0m\n\u001b[1;32m      1\u001b[0m \u001b[0;31m# If you try to call the function with 1 or 3 arguments, you will get an error:\u001b[0m\u001b[0;34m\u001b[0m\u001b[0;34m\u001b[0m\u001b[0;34m\u001b[0m\u001b[0m\n\u001b[0;32m----> 2\u001b[0;31m \u001b[0mmy_function\u001b[0m\u001b[0;34m(\u001b[0m\u001b[0;34m\"Tesla\"\u001b[0m\u001b[0;34m)\u001b[0m\u001b[0;34m\u001b[0m\u001b[0;34m\u001b[0m\u001b[0m\n\u001b[0m",
      "\u001b[0;31mTypeError\u001b[0m: my_function() missing 1 required positional argument: 'car_model'"
     ]
    }
   ],
   "source": [
    "# If you try to call the function with 1 or 3 arguments, you will get an error:\n",
    "my_function(\"Tesla\")"
   ]
  },
  {
   "cell_type": "markdown",
   "id": "79c9aeeb",
   "metadata": {},
   "source": [
    "### Arbitrary Arguments, *args\n",
    "If you do not know how many arguments that will be passed into your function, add a * before the parameter name in the function definition.\n",
    "\n",
    "This way the function will receive a tuple of arguments, and can access the items accordingly:"
   ]
  },
  {
   "cell_type": "code",
   "execution_count": 49,
   "id": "f43a863a",
   "metadata": {},
   "outputs": [
    {
     "name": "stdout",
     "output_type": "stream",
     "text": [
      "In BMW, I like X1\n"
     ]
    }
   ],
   "source": [
    "def my_function(*cars):\n",
    "  print(\"In BMW, I like \" + cars[2])\n",
    "\n",
    "my_function(\"X7\", \"X3\", \"X1\")"
   ]
  },
  {
   "cell_type": "markdown",
   "id": "e4238ea1",
   "metadata": {},
   "source": [
    "### Default Parameter Value\n",
    "The following example shows how to use a default parameter value. If we call the function without argument, it uses the default value:"
   ]
  },
  {
   "cell_type": "code",
   "execution_count": 50,
   "id": "bb4f35c5",
   "metadata": {},
   "outputs": [
    {
     "name": "stdout",
     "output_type": "stream",
     "text": [
      "My favroite car is BMW\n",
      "My favroite car is Audi\n",
      "My favroite car is Tesla\n",
      "My favroite car is Honda\n"
     ]
    }
   ],
   "source": [
    "def my_function(car = \"Tesla\"):\n",
    "  print(\"My favroite car is \" + car)\n",
    "\n",
    "my_function(\"BMW\")\n",
    "my_function(\"Audi\")\n",
    "my_function()\n",
    "my_function(\"Honda\")"
   ]
  },
  {
   "cell_type": "markdown",
   "id": "a4878052",
   "metadata": {},
   "source": [
    "### Passing a List as an Argument\n",
    "You can send any data types of argument to a function (string, number, list, dictionary etc.), and it will be treated as the same data type inside the function.\n",
    "\n",
    "E.g. if you send a List as an argument, it will still be a List when it reaches the function:"
   ]
  },
  {
   "cell_type": "code",
   "execution_count": 51,
   "id": "87440342",
   "metadata": {},
   "outputs": [
    {
     "name": "stdout",
     "output_type": "stream",
     "text": [
      "bmw\n",
      "audi\n",
      "honda\n"
     ]
    }
   ],
   "source": [
    "def my_function(cars):\n",
    "  for x in cars:\n",
    "    print(x)\n",
    "\n",
    "fruits = [\"bmw\", \"audi\", \"honda\"]\n",
    "\n",
    "my_function(fruits)"
   ]
  },
  {
   "cell_type": "markdown",
   "id": "36382d08",
   "metadata": {},
   "source": [
    "### Return Values\n",
    "To let a function return a value, use the return statement:"
   ]
  },
  {
   "cell_type": "code",
   "execution_count": 52,
   "id": "acceb61a",
   "metadata": {},
   "outputs": [
    {
     "name": "stdout",
     "output_type": "stream",
     "text": [
      "50\n",
      "100\n",
      "150\n"
     ]
    }
   ],
   "source": [
    "def my_function(x):\n",
    "  return 5 * x\n",
    "\n",
    "print(my_function(10))\n",
    "print(my_function(20))\n",
    "print(my_function(30))"
   ]
  },
  {
   "cell_type": "code",
   "execution_count": null,
   "id": "f1098bb0",
   "metadata": {},
   "outputs": [],
   "source": []
  }
 ],
 "metadata": {
  "kernelspec": {
   "display_name": "Python 3",
   "language": "python",
   "name": "python3"
  },
  "language_info": {
   "codemirror_mode": {
    "name": "ipython",
    "version": 3
   },
   "file_extension": ".py",
   "mimetype": "text/x-python",
   "name": "python",
   "nbconvert_exporter": "python",
   "pygments_lexer": "ipython3",
   "version": "3.7.10"
  }
 },
 "nbformat": 4,
 "nbformat_minor": 5
}
