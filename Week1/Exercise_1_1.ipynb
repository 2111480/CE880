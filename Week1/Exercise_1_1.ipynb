{
 "cells": [
  {
   "cell_type": "markdown",
   "id": "5ff1c9a6",
   "metadata": {},
   "source": [
    "# CE880: An Approachable Introduction to Data Science\n",
    "### Prepared by: Haider Raza (h.raza@essex.ac.uk)\n",
    "### Approximate time: 180 minutes\n",
    "\n",
    "***\n",
    "## Learning Outcome Day 1\n",
    "* What is Python and Python IDE/code editor\n",
    "* What is Google Colab and why we will use it\n",
    "* How to start coding in Python on Colab\n",
    "* How to create your GitHub and commit\n",
    "* Basic commands and tricks in Colab\n",
    "* Organizing your working directory in Colab\n",
    "* Announce project: Dataset and task\n",
    "***"
   ]
  },
  {
   "cell_type": "markdown",
   "id": "519638fe",
   "metadata": {},
   "source": [
    "## What is Python?\n",
    "\n",
    "Python is an interpreted, object-oriented, high-level programming language with dynamic semantics. Its high-level built-in data structures, combined with dynamic typing and dynamic binding, make it very attractive for Rapid Application Development, as well as for use as a scripting or glue language to connect existing components together. \n",
    "\n",
    "Oeverall, Python is a popular programming language. It was created by Guido van Rossum, and released in 1991.\n",
    "\n",
    "It is used for:\n",
    "* web development (server-side),\n",
    "* software development,\n",
    "* mathematics,\n",
    "* system scripting.\n",
    "\n",
    "## What can Python do?\n",
    "* Python can be used for web development application.\n",
    "* Python can be used alongside software to create workflows.\n",
    "* Python can connect to database systems. It can also read and modify files.\n",
    "* Python can be used to handle big data and perform complex mathematics.\n",
    "* Python can be used for rapid prototyping, or for production-ready software development.\n",
    "\n",
    "\n",
    "## Why Python?\n",
    "* Python works on different platforms (Windows, Mac, Linux, Raspberry Pi, etc).\n",
    "* Python has a simple syntax similar to the English language.\n",
    "* Python has syntax that allows developers to write programs with fewer lines than some other programming languages.\n",
    "* Python runs on an interpreter system, meaning that code can be executed as soon as it is written. This means that prototyping can be very quick.\n",
    "* Python can be treated in a procedural way, an object-oriented way or a functional way.\n"
   ]
  },
  {
   "cell_type": "markdown",
   "id": "0694c33d",
   "metadata": {},
   "source": [
    "# Introduction to Colab and Python\n",
    "\n",
    "Welcome to this [Google Colab](https://colab.research.google.com/) where you will get a quick introduction to the Python programming language and the environment used for the course's exercises: Colab.\n",
    "\n",
    "Colab is a Python development environment that runs in the browser using Google Cloud. For example, to print \"Hello World\", just hover the mouse over [ ] and press the play button to the upper left. Or press shift-enter to execute."
   ]
  },
  {
   "cell_type": "code",
   "execution_count": null,
   "id": "adb17825",
   "metadata": {},
   "outputs": [],
   "source": [
    "print(\"Hello World\")"
   ]
  },
  {
   "cell_type": "markdown",
   "id": "9ec554b3",
   "metadata": {},
   "source": [
    "## Features of Google Colab\n",
    "\n",
    "* Write and execute code in Python\n",
    "* Document the code which supports the mathematical equations\n",
    "* Create new notebooks\n",
    "* Upload the existing notebooks\n",
    "* Share the notebooks with the google link\n",
    "* Import data from Google Drive\n",
    "* Save notebooks from/to Google Drive\n",
    "* Import/Publish notebooks from GitHub\n",
    "* Import external datasets e.g. from Kaggle\n",
    "* Integrate PyTorch, TensorFlow, Keras, OpenCV\n",
    "* Free Cloud service with free GPU and TPU\n",
    "\n",
    "Please see this medium blog on [An Introduction to Google Colab (Python)](https://medium.com/@sagihaider/benefits-of-using-google-colab-python-8f246c91bc52)"
   ]
  },
  {
   "cell_type": "markdown",
   "id": "0761c844",
   "metadata": {},
   "source": [
    "## Let's see our first code"
   ]
  },
  {
   "cell_type": "code",
   "execution_count": null,
   "id": "e6bf830f",
   "metadata": {},
   "outputs": [],
   "source": [
    "if 10 > 8:\n",
    "  print(\"Ten is greater than eight!\")"
   ]
  },
  {
   "cell_type": "markdown",
   "id": "6c4e361a",
   "metadata": {},
   "source": [
    "## What is GitHub?\n",
    "\n",
    "GitHub is a code hosting platform for version control and collaboration. It lets you and others work together on projects from anywhere. Here we will teaches you GitHub essentials such repositories, branches, commits, and Pull Requests. You’ll create your own `Introduction2Python` repository and commit all your work day-by-day.\n",
    "\n",
    "<img src=\"https://miro.medium.com/max/1400/1*JLYlSLSK8-AZo8gt9UdYqA.jpeg\" width=\"300\">\n",
    "\n",
    "To use GitHub you need a [GitHub](http://github.com/) account and Internet access. You don’t need to know how to code. However, please focus why we are using it. Now, please click here [Sign-Up](https://github.com/signup?ref_cta=Sign+up&ref_loc=header+logged+out&ref_page=%2F&source=header-home) to create a GitHub account. \n",
    "\n",
    "After creating GitHub account, please follow the given steps:\n",
    "\n",
    "#### Step 1. Create a Repository\n",
    "\n",
    "A repository is usually used to organize a single project. Repositories can contain folders and files, images, videos, spreadsheets, and data sets – anything your project needs. We recommend including a README, or a file with information about your project. GitHub makes it easy to add one at the same time you create your new repository. It also offers other common options such as a license file.\n",
    "\n",
    "Your `CE880` repository can be a place where you store ideas, resources, or even share and discuss things with others.\n",
    "\n",
    "#### Step 2. To create a new repository\n",
    "In the upper right corner, next to your avatar or identicon, click  and then select New repository.\n",
    "\n",
    "1. Name your repository `CE880`.\n",
    "2. Write a short description.\n",
    "3. Select Initialize this repository with a README.\n",
    "4. Click `Create repository`.\n",
    "\n",
    "#### Step 3. Make and commit changes\n",
    "\n",
    "1. Click the README.md file.\n",
    "2. Click the  pencil icon in the upper right corner of the file view to edit.\n",
    "3. In the editor, write a bit about yourself.\n",
    "4. Write a commit message that describes your changes.\n",
    "5. Click Commit changes button.\n"
   ]
  },
  {
   "cell_type": "markdown",
   "id": "e6df8932",
   "metadata": {},
   "source": [
    "# Let's start coding in Python"
   ]
  },
  {
   "cell_type": "code",
   "execution_count": null,
   "id": "9dd70aa4",
   "metadata": {},
   "outputs": [],
   "source": [
    "# This program adds two numbers\n",
    "\n",
    "num1 = 1.5\n",
    "num2 = 6.3\n",
    "\n",
    "# Add two numbers\n",
    "sum = num1 + num2\n",
    "\n",
    "# Display the sum\n",
    "print('The sum of {0} and {1} is {2}'.format(num1, num2, sum))"
   ]
  },
  {
   "cell_type": "code",
   "execution_count": null,
   "id": "35146e00",
   "metadata": {},
   "outputs": [],
   "source": [
    "# We can also take use input \n",
    "\n",
    "# Store input numbers\n",
    "num1 = input('Enter first number: ')\n",
    "num2 = input('Enter second number: ')\n",
    "\n",
    "# Add two numbers\n",
    "sum = float(num1) + float(num2)\n",
    "\n",
    "# Display the sum\n",
    "print('The sum of {0} and {1} is {2}'.format(num1, num2, sum))"
   ]
  },
  {
   "cell_type": "code",
   "execution_count": null,
   "id": "3ced4503",
   "metadata": {},
   "outputs": [],
   "source": [
    "# Let's calculate the sqaure root\n",
    "\n",
    "# Python Program to calculate the square root\n",
    "# Note: change this value for a different result\n",
    "num = 9 \n",
    "\n",
    "# To take the input from the user\n",
    "#num = float(input('Enter a number: '))\n",
    "\n",
    "num_sqrt = num ** 0.5\n",
    "print('The square root of %0.3f is %0.3f'%(num ,num_sqrt))"
   ]
  },
  {
   "cell_type": "markdown",
   "id": "ff706522",
   "metadata": {},
   "source": [
    "##### Question 1: Calculcate the area of Triangle. Please see the image for the formula. \n",
    "\n",
    "<img src=\"https://i.ytimg.com/vi/7N5orPxUoGo/maxresdefault.jpg\" width=\"400\">"
   ]
  },
  {
   "cell_type": "code",
   "execution_count": null,
   "id": "c0dd20f7",
   "metadata": {},
   "outputs": [],
   "source": []
  }
 ],
 "metadata": {
  "kernelspec": {
   "display_name": "Python 3",
   "language": "python",
   "name": "python3"
  },
  "language_info": {
   "codemirror_mode": {
    "name": "ipython",
    "version": 3
   },
   "file_extension": ".py",
   "mimetype": "text/x-python",
   "name": "python",
   "nbconvert_exporter": "python",
   "pygments_lexer": "ipython3",
   "version": "3.7.10"
  }
 },
 "nbformat": 4,
 "nbformat_minor": 5
}
