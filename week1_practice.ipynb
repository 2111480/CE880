{
  "nbformat": 4,
  "nbformat_minor": 0,
  "metadata": {
    "colab": {
      "name": "week1_practice.ipynb",
      "provenance": [],
      "authorship_tag": "ABX9TyOul/EC1ETx4N1ieD1ua070",
      "include_colab_link": true
    },
    "kernelspec": {
      "name": "python3",
      "display_name": "Python 3"
    },
    "language_info": {
      "name": "python"
    }
  },
  "cells": [
    {
      "cell_type": "markdown",
      "metadata": {
        "id": "view-in-github",
        "colab_type": "text"
      },
      "source": [
        "<a href=\"https://colab.research.google.com/github/sagihaider/CE880_2021/blob/main/week1_practice.ipynb\" target=\"_parent\"><img src=\"https://colab.research.google.com/assets/colab-badge.svg\" alt=\"Open In Colab\"/></a>"
      ]
    },
    {
      "cell_type": "markdown",
      "metadata": {
        "id": "NGlko0u8XCLU"
      },
      "source": [
        "# Hello CE880\n",
        "## Hope you all are doing good\n",
        "### Welcome to Essex\n",
        "Hope you are enjoying Colchester\n",
        "\n",
        "| Student No | Name |\n",
        "| ----------- | ----------- |\n",
        "| 1 | ABC |\n",
        "| 2 | XYZ |"
      ]
    },
    {
      "cell_type": "code",
      "metadata": {
        "colab": {
          "base_uri": "https://localhost:8080/"
        },
        "id": "Nb2Q8VzbWuWh",
        "outputId": "0602cbb5-ae79-487e-887e-a53924727504"
      },
      "source": [
        "print(\"Hello World\")"
      ],
      "execution_count": null,
      "outputs": [
        {
          "output_type": "stream",
          "name": "stdout",
          "text": [
            "Hello World\n"
          ]
        }
      ]
    }
  ]
}